{
 "cells": [
  {
   "cell_type": "markdown",
   "metadata": {},
   "source": [
    "# problem 2:\n",
    "\n",
    "## problem statment :\n",
    "\n",
    " 4/23/2008  Chennai Super Kings vs Mumbai Indians Match\n",
    "Plot a bar graph for all the players in the   Mumbai Indians  team\n"
   ]
  },
  {
   "cell_type": "code",
   "execution_count": 4,
   "metadata": {},
   "outputs": [
    {
     "data": {
      "image/png": "[encoded data removed]",
      "text/plain": [
       "<Figure size 432x288 with 1 Axes>"
      ]
     },
     "metadata": {
      "needs_background": "light"
     },
     "output_type": "display_data"
    }
   ],
   "source": [
    "import pandas as pd\n",
    "import matplotlib.pyplot as plt\n",
    "import numpy as np\n",
    "class Datalist:\n",
    "    def data_lists1(s,filename):\n",
    "        d=pd.read_csv(filename)\n",
    "        return d\n",
    "    def compar(s,df,tm1,tm2,date):\n",
    "        for i in df.values:\n",
    "            if(i[2]==tm1 and i[3]==tm2 and i[4]==date):\n",
    "                return i[1]\n",
    "    def comp1(s,df3,a,b):\n",
    "        l1=[]\n",
    "        for i in df3.values:\n",
    "            if(i[2]==b and i[10]==a):\n",
    "                l1.append(i[4])\n",
    "        return l1\n",
    "    \n",
    "    def compar2(s,df1,name):\n",
    "        l3=[]\n",
    "        for j in range(0,len(playerList)):\n",
    "            for i in df1.values:\n",
    "                if(i[2]==playerList[j]):\n",
    "                    l3.append(i[1])\n",
    "        return l3\n",
    "    def Runs(s,df2,matchid,plyerid,date):\n",
    "        l4=[]\n",
    "        for j in range (0,len(plyerid)):\n",
    "            sum=0\n",
    "            for i in df2.values:\n",
    "                if(i[0]==matchid and i[29]==plyerid[j] and i[27]==date):\n",
    "                    sum=sum+i[8]\n",
    "            l4.append(sum)\n",
    "        return l4\n",
    "    def bar_graph(s,u,w):\n",
    "        x=1/2\n",
    "        plt.bar(u,w,x,color=('Black','Green','Blue'))\n",
    "        plt.rcParams['figure.figsize']=[20,20]\n",
    "        plt.xlabel('PlayerList')\n",
    "        plt.ylabel('Runs')\n",
    "        plt.title('Bar graph for all the players in the mumbai indians team ')\n",
    "        plt.show\n",
    "d1=Datalist()\n",
    "df=d1.data_lists1('DATA FILES/Match.csv')\n",
    "df1=d1.data_lists1('DATA FILES/Player.csv')\n",
    "df2=d1.data_lists1('DATA FILES/Ball_By_Ball.csv')\n",
    "df3=d1.data_lists1('DATA FILES/Player_match.csv')\n",
    "df4=d1.data_lists1('DATA FILES/team.csv')\n",
    "matchId=d1.compar(df,'Chennai Super Kings','Mumbai Indians','4/23/2008')\n",
    "playerList =d1.comp1(df3,'Mumbai Indians',matchId)\n",
    "playerId=d1.compar2(df1,playerList)\n",
    "run=d1.Runs(df2,matchId,playerId,'4/23/2008')\n",
    "d1.bar_graph(playerList,run)"
   ]
  },
  {
   "cell_type": "code",
   "execution_count": null,
   "metadata": {},
   "outputs": [],
   "source": []
  }
 ],
 "metadata": {
  "kernelspec": {
   "display_name": "Python 3",
   "language": "python",
   "name": "python3"
  }
 },
 "nbformat": 4,
 "nbformat_minor": 2
}
