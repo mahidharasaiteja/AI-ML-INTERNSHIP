{
 "cells": [
  {
   "cell_type": "markdown",
   "metadata": {},
   "source": [
    "## AI and ML INTERNSHIP\n",
    "\n",
    "## M.SAITEJA\n",
    "\n",
    "## Day No-7\n",
    "\n",
    "## Date- 31-5-2019¶"
   ]
  },
  {
   "cell_type": "markdown",
   "metadata": {},
   "source": [
    "# problem 1:\n",
    "\n",
    "## problem statement:\n",
    "\n",
    "* How many runs of  Dhoni  On 4/23/2008  Chennai Super Kings vs Mumbai Indians Match ( Use Oops concepts)\n",
    "\n",
    "Datasets: \n",
    "Match.csv => Match details (match id , teams, location etc) \n",
    "\tPlayer.csv => Player Details (player id, name,team name, etc)\n",
    "\tBall_By_Ball => Ball to ball details (match id , striker, runs, over id, ball id etc)\n"
   ]
  },
  {
   "cell_type": "code",
   "execution_count": 21,
   "metadata": {},
   "outputs": [
    {
     "data": {
      "text/plain": [
       "Runs_Scored    30\n",
       "dtype: int64"
      ]
     },
     "execution_count": 21,
     "metadata": {},
     "output_type": "execute_result"
    }
   ],
   "source": [
    "import pandas as pd\n",
    "import matplotlib.pyplot as plt\n",
    "df=pd.read_csv('DATA FILES/Match.csv')\n",
    "df1=pd.read_csv('DATA FILES/Ball_by_Ball.csv')\n",
    "df2=pd.read_csv('DATA FILES/player.csv')\n",
    "dhoni_id=df2[df2['Player_Name']==\"MS Dhoni\"][\"Player_Id\"]\n",
    "matchid=df[df['match_date'] ==\"4/23/2008\"][\"match_id\"]\n",
    "x =df1['Striker']==int(dhoni_id)\n",
    "y=df1['MatcH_id']==int(matchid)\n",
    "df1[x & y][['Runs_Scored']].sum()\n",
    "\n"
   ]
  }
 ],
 "metadata": {
  "kernelspec": {
   "display_name": "Python 3",
   "language": "python",
   "name": "python3"
  },
  "language_info": {
   "codemirror_mode": {
    "name": "ipython",
    "version": 3
   },
   "file_extension": ".py",
   "mimetype": "text/x-python",
   "name": "python",
   "nbconvert_exporter": "python",
   "pygments_lexer": "ipython3",
   "version": "3.7.3"
  }
 },
 "nbformat": 4,
 "nbformat_minor": 2
}
